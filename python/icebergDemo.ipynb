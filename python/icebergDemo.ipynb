{
 "cells": [
  {
   "cell_type": "code",
   "id": "initial_id",
   "metadata": {
    "collapsed": true,
    "ExecuteTime": {
     "end_time": "2024-06-22T19:41:42.213605Z",
     "start_time": "2024-06-22T19:41:14.260151Z"
    }
   },
   "source": [
    "%%configure -f\n",
    "{\n",
    "\"conf\":{\n",
    "    \"spark.sql.extensions\":\"org.apache.iceberg.spark.extensions.IcebergSparkSessionExtensions\"\n",
    "    },\n",
    "    \"jars\":[\n",
    "        \"s3://mxtdw-audit-gamma/jars/iceberg-spark3-runtime.jar\"\n",
    "    ]\n",
    "}"
   ],
   "outputs": [
    {
     "name": "stdout",
     "output_type": "stream",
     "text": [
      "Starting Spark application\n"
     ]
    },
    {
     "data": {
      "text/plain": [
       "<IPython.core.display.HTML object>"
      ],
      "text/html": [
       "<table>\n",
       "<tr><th>ID</th><th>YARN Application ID</th><th>Kind</th><th>State</th><th>Spark UI</th><th>Driver log</th><th>User</th><th>Current session?</th></tr><tr><td>5</td><td>application_1718585345363_0006</td><td>pyspark</td><td>idle</td><td><a target=\"_blank\" href=\"http://ip-10-0-27-34.ec2.internal:20888/proxy/application_1718585345363_0006/\">Link</a></td><td><a target=\"_blank\" href=\"http://ip-10-0-5-156.ec2.internal:8042/node/containerlogs/container_1718585345363_0006_01_000001/livy\">Link</a></td><td>None</td><td>✔</td></tr></table>"
      ]
     },
     "metadata": {},
     "output_type": "display_data"
    },
    {
     "data": {
      "text/plain": [
       "FloatProgress(value=0.0, bar_style='info', description='Progress:', layout=Layout(height='25px', width='50%'),…"
      ],
      "application/vnd.jupyter.widget-view+json": {
       "version_major": 2,
       "version_minor": 0,
       "model_id": "f5848c799e474924a7a414e9ec3e6a8d"
      }
     },
     "metadata": {},
     "output_type": "display_data"
    },
    {
     "name": "stdout",
     "output_type": "stream",
     "text": [
      "SparkSession available as 'spark'.\n"
     ]
    },
    {
     "data": {
      "text/plain": [
       "<IPython.core.display.HTML object>"
      ],
      "text/html": [
       "Current session configs: <tt>{'conf': {'spark.sql.catalog.spark_catalog.type': 'hive', 'spark.sql.extensions': 'org.apache.iceberg.spark.extensions.IcebergSparkSessionExtensions'}, 'jars': ['s3://mxtdw-audit-gamma/jars/iceberg-spark3-runtime.jar'], 'kind': 'pyspark'}</tt><br>"
      ]
     },
     "metadata": {},
     "output_type": "display_data"
    },
    {
     "data": {
      "text/plain": [
       "<IPython.core.display.HTML object>"
      ],
      "text/html": [
       "<table>\n",
       "<tr><th>ID</th><th>YARN Application ID</th><th>Kind</th><th>State</th><th>Spark UI</th><th>Driver log</th><th>User</th><th>Current session?</th></tr><tr><td>5</td><td>application_1718585345363_0006</td><td>pyspark</td><td>idle</td><td><a target=\"_blank\" href=\"http://ip-10-0-27-34.ec2.internal:20888/proxy/application_1718585345363_0006/\">Link</a></td><td><a target=\"_blank\" href=\"http://ip-10-0-5-156.ec2.internal:8042/node/containerlogs/container_1718585345363_0006_01_000001/livy\">Link</a></td><td>None</td><td>✔</td></tr></table>"
      ]
     },
     "metadata": {},
     "output_type": "display_data"
    }
   ],
   "execution_count": 4
  },
  {
   "metadata": {
    "ExecuteTime": {
     "end_time": "2024-06-22T19:55:18.031950Z",
     "start_time": "2024-06-22T19:55:17.683564Z"
    }
   },
   "cell_type": "code",
   "source": [
    "from pyspark.sql import SparkSession\n",
    "catalog_name = \"glue_catalog\"\n",
    "bucket_name = \"mxtdw-audit-gamma\"\n",
    "bucket_prefix = \"demo_iceberg/\"\n",
    "database_name = \"playground\"\n",
    "warehouse_path = f\"s3://{bucket_name}/{bucket_prefix}\"\n",
    "spark = SparkSession.builder \\\n",
    "    .config(f\"spark.sql.catalog.{catalog_name}\", \"org.apache.iceberg.spark.SparkCatalog\") \\\n",
    "    .config(f\"spark.sql.catalog.{catalog_name}.warehouse\", f\"{warehouse_path}\") \\\n",
    "    .config(f\"spark.sql.catalog.{catalog_name}.catalog-impl\", \"org.apache.iceberg.aws.glue.GlueCatalog\") \\\n",
    "    .config(f\"spark.sql.catalog.{catalog_name}.io-impl\", \"org.apache.iceberg.aws.s3.S3FileIO\") \\\n",
    "    .config(\"spark.sql.extensions\",\"org.apache.iceberg.spark.extensions.IcebergSparkSessionExtensions\") \\\n",
    "    .getOrCreate()"
   ],
   "id": "bc031b4feeb4c43b",
   "outputs": [
    {
     "data": {
      "text/plain": [
       "FloatProgress(value=0.0, bar_style='info', description='Progress:', layout=Layout(height='25px', width='50%'),…"
      ],
      "application/vnd.jupyter.widget-view+json": {
       "version_major": 2,
       "version_minor": 0,
       "model_id": "56ed3d24d69c40dfb4c52e7d792e0398"
      }
     },
     "metadata": {},
     "output_type": "display_data"
    }
   ],
   "execution_count": 5
  },
  {
   "metadata": {},
   "cell_type": "markdown",
   "source": "Creating the iceberg table ",
   "id": "f6fe1901189287bb"
  },
  {
   "metadata": {
    "ExecuteTime": {
     "end_time": "2024-06-22T20:14:48.153191Z",
     "start_time": "2024-06-22T20:14:40.026313Z"
    }
   },
   "cell_type": "code",
   "source": [
    "%%sql \n",
    "create table glue_catalog.playground.demo(\n",
    "    name string,\n",
    "    phone string,\n",
    "    email string,\n",
    "    postalZip long,\n",
    "    number int,\n",
    "    country string,\n",
    "    ingestion_date date\n",
    ")\n",
    "using iceberg \n",
    "PARTITIONED BY (country,year(ingestion_date))\n",
    "Location 's3://mxtdw-audit-gamma/demo_iceberg/'\n",
    "TBLPROPERTIES ( \n",
    "    'write.metadata.metrics.column.postalZip'='full',\n",
    "    'write.metadata.metrics.column.country'='full',\n",
    "    'write.metadata.metrics.column.ingestion_date'='full'\n",
    ");"
   ],
   "id": "4983957da4774a9e",
   "outputs": [
    {
     "data": {
      "text/plain": [
       "FloatProgress(value=0.0, bar_style='info', description='Progress:', layout=Layout(height='25px', width='50%'),…"
      ],
      "application/vnd.jupyter.widget-view+json": {
       "version_major": 2,
       "version_minor": 0,
       "model_id": "3610ad1ec9dd452d87eab7f5b1f3832f"
      }
     },
     "metadata": {},
     "output_type": "display_data"
    },
    {
     "data": {
      "text/plain": [
       "VBox(children=(HBox(), EncodingWidget(children=(VBox(children=(HTML(value='Encoding:'), Dropdown(description='…"
      ],
      "application/vnd.jupyter.widget-view+json": {
       "version_major": 2,
       "version_minor": 0,
       "model_id": "291dde6efd1747e99cc392791639781d"
      }
     },
     "metadata": {},
     "output_type": "display_data"
    },
    {
     "data": {
      "text/plain": [
       "Output()"
      ],
      "application/vnd.jupyter.widget-view+json": {
       "version_major": 2,
       "version_minor": 0,
       "model_id": "a1371f765ea548b097b3ad1ec8d242a3"
      }
     },
     "metadata": {},
     "output_type": "display_data"
    }
   ],
   "execution_count": 7
  },
  {
   "metadata": {},
   "cell_type": "markdown",
   "source": [
    "Iceberg Metadata Queries \n",
    "Extended list can be found here - https://iceberg.apache.org/docs/nightly/spark-queries/"
   ],
   "id": "61f3ffc11bd4bb27"
  },
  {
   "metadata": {},
   "cell_type": "markdown",
   "source": "Getting the s3 files ",
   "id": "4f06f0032df2cdb1"
  },
  {
   "metadata": {
    "ExecuteTime": {
     "end_time": "2024-06-22T20:23:42.439526Z",
     "start_time": "2024-06-22T20:23:41.293520Z"
    }
   },
   "cell_type": "code",
   "source": [
    "%%sql \n",
    "select * from glue_catalog.playground.demo.files;"
   ],
   "id": "81ea2fd7b17bbf00",
   "outputs": [
    {
     "data": {
      "text/plain": [
       "FloatProgress(value=0.0, bar_style='info', description='Progress:', layout=Layout(height='25px', width='50%'),…"
      ],
      "application/vnd.jupyter.widget-view+json": {
       "version_major": 2,
       "version_minor": 0,
       "model_id": "29924231415944fabbbb2fc40f083d3c"
      }
     },
     "metadata": {},
     "output_type": "display_data"
    },
    {
     "data": {
      "text/plain": [
       "VBox(children=(HBox(), EncodingWidget(children=(VBox(children=(HTML(value='Encoding:'), Dropdown(description='…"
      ],
      "application/vnd.jupyter.widget-view+json": {
       "version_major": 2,
       "version_minor": 0,
       "model_id": "15be92fa91e24a4fbdac234561058ab2"
      }
     },
     "metadata": {},
     "output_type": "display_data"
    },
    {
     "data": {
      "text/plain": [
       "Output()"
      ],
      "application/vnd.jupyter.widget-view+json": {
       "version_major": 2,
       "version_minor": 0,
       "model_id": "1213f670e53e497aa6585198a0c35152"
      }
     },
     "metadata": {},
     "output_type": "display_data"
    }
   ],
   "execution_count": 10
  },
  {
   "metadata": {},
   "cell_type": "markdown",
   "source": "Getting the Snapshots",
   "id": "4676619ddcd71ac2"
  },
  {
   "metadata": {
    "ExecuteTime": {
     "end_time": "2024-06-22T20:25:05.067696Z",
     "start_time": "2024-06-22T20:24:54.064341Z"
    }
   },
   "cell_type": "code",
   "source": [
    "%%sql \n",
    "select * from glue_catalog.playground.demo.snapshots;"
   ],
   "id": "48116bc06d748b5f",
   "outputs": [
    {
     "data": {
      "text/plain": [
       "FloatProgress(value=0.0, bar_style='info', description='Progress:', layout=Layout(height='25px', width='50%'),…"
      ],
      "application/vnd.jupyter.widget-view+json": {
       "version_major": 2,
       "version_minor": 0,
       "model_id": "84b03acc3478409aaf4370ae0bebc3bd"
      }
     },
     "metadata": {},
     "output_type": "display_data"
    },
    {
     "data": {
      "text/plain": [
       "VBox(children=(HBox(), EncodingWidget(children=(VBox(children=(HTML(value='Encoding:'), Dropdown(description='…"
      ],
      "application/vnd.jupyter.widget-view+json": {
       "version_major": 2,
       "version_minor": 0,
       "model_id": "ca78f5a783ec46d7b7e4cce41acb9cf6"
      }
     },
     "metadata": {},
     "output_type": "display_data"
    },
    {
     "data": {
      "text/plain": [
       "Output()"
      ],
      "application/vnd.jupyter.widget-view+json": {
       "version_major": 2,
       "version_minor": 0,
       "model_id": "36e788c7e489486b83891e95406b62cf"
      }
     },
     "metadata": {},
     "output_type": "display_data"
    }
   ],
   "execution_count": 11
  },
  {
   "metadata": {},
   "cell_type": "markdown",
   "source": "Inserting the data ",
   "id": "ec0ac262ed8330f0"
  },
  {
   "metadata": {
    "ExecuteTime": {
     "end_time": "2024-06-22T20:32:56.801877Z",
     "start_time": "2024-06-22T20:32:48.501011Z"
    }
   },
   "cell_type": "code",
   "source": [
    "import pyspark.sql.functions as f\n",
    "df = spark.read.csv(\"s3://mxtdw-audit-gamma/demo_data/data.csv\",header=True,inferSchema=True)\n",
    "df = df.withColumn(\"ingestion_date\",f.current_date())"
   ],
   "id": "1b5e9f5dcb6445bb",
   "outputs": [
    {
     "data": {
      "text/plain": [
       "FloatProgress(value=0.0, bar_style='info', description='Progress:', layout=Layout(height='25px', width='50%'),…"
      ],
      "application/vnd.jupyter.widget-view+json": {
       "version_major": 2,
       "version_minor": 0,
       "model_id": "0c4fa335c87d487abba6cccbb9dcfaed"
      }
     },
     "metadata": {},
     "output_type": "display_data"
    }
   ],
   "execution_count": 14
  },
  {
   "metadata": {
    "ExecuteTime": {
     "end_time": "2024-06-22T20:32:59.066580Z",
     "start_time": "2024-06-22T20:32:58.041958Z"
    }
   },
   "cell_type": "code",
   "source": "df.show()",
   "id": "5302f9ff1f455d46",
   "outputs": [
    {
     "data": {
      "text/plain": [
       "FloatProgress(value=0.0, bar_style='info', description='Progress:', layout=Layout(height='25px', width='50%'),…"
      ],
      "application/vnd.jupyter.widget-view+json": {
       "version_major": 2,
       "version_minor": 0,
       "model_id": "b59a879580414126951331d4178ecda7"
      }
     },
     "metadata": {},
     "output_type": "display_data"
    },
    {
     "name": "stdout",
     "output_type": "stream",
     "text": [
      "+---------------+--------------+--------------------+---------+------+------------------+--------------+\n",
      "|           name|         phone|               email|postalZip|number|           country|ingestion_date|\n",
      "+---------------+--------------+--------------------+---------+------+------------------+--------------+\n",
      "|   Price Savage|(424) 562-4115|varius.ultrices@g...|   586986|     7|             India|    2024-06-22|\n",
      "|   Odette Logan|1-562-786-9778|ultricies.ligula@...|     1061|     8|Russian Federation|    2024-06-22|\n",
      "|Katell Buchanan|(935) 445-9637|magna@protonmail.net|    55526|     9|           Nigeria|    2024-06-22|\n",
      "|    Leigh Young|1-808-725-8983|ultrices.posuere....|     4906|     7|            Poland|    2024-06-22|\n",
      "|  Bianca Sexton|1-383-310-3697|risus.at@outlook.net|   115771|     0|           Vietnam|    2024-06-22|\n",
      "+---------------+--------------+--------------------+---------+------+------------------+--------------+"
     ]
    }
   ],
   "execution_count": 15
  },
  {
   "metadata": {
    "ExecuteTime": {
     "end_time": "2024-06-22T20:38:48.145849Z",
     "start_time": "2024-06-22T20:38:33.937680Z"
    }
   },
   "cell_type": "code",
   "source": "df.writeTo(\"glue_catalog.playground.demo\").append()",
   "id": "668419bc169b6f8b",
   "outputs": [
    {
     "data": {
      "text/plain": [
       "FloatProgress(value=0.0, bar_style='info', description='Progress:', layout=Layout(height='25px', width='50%'),…"
      ],
      "application/vnd.jupyter.widget-view+json": {
       "version_major": 2,
       "version_minor": 0,
       "model_id": "396bbd8d40704ff787ad0b6c6379d0b5"
      }
     },
     "metadata": {},
     "output_type": "display_data"
    }
   ],
   "execution_count": 16
  },
  {
   "metadata": {},
   "cell_type": "markdown",
   "source": "Querying the Iceberg Table ",
   "id": "5e69b39de927d16c"
  },
  {
   "metadata": {
    "ExecuteTime": {
     "end_time": "2024-06-22T20:39:24.833988Z",
     "start_time": "2024-06-22T20:39:19.711595Z"
    }
   },
   "cell_type": "code",
   "source": [
    "%%sql \n",
    "select * from glue_catalog.playground.demo;"
   ],
   "id": "97cdd69957ae048a",
   "outputs": [
    {
     "data": {
      "text/plain": [
       "FloatProgress(value=0.0, bar_style='info', description='Progress:', layout=Layout(height='25px', width='50%'),…"
      ],
      "application/vnd.jupyter.widget-view+json": {
       "version_major": 2,
       "version_minor": 0,
       "model_id": "0ebb5ecc935d426685db8a50e5d737f1"
      }
     },
     "metadata": {},
     "output_type": "display_data"
    },
    {
     "data": {
      "text/plain": [
       "VBox(children=(HBox(children=(HTML(value='Type:'), Button(description='Table', layout=Layout(width='70px'), st…"
      ],
      "application/vnd.jupyter.widget-view+json": {
       "version_major": 2,
       "version_minor": 0,
       "model_id": "94a829681c854ccd84d11f46c67eb610"
      }
     },
     "metadata": {},
     "output_type": "display_data"
    },
    {
     "data": {
      "text/plain": [
       "Output()"
      ],
      "application/vnd.jupyter.widget-view+json": {
       "version_major": 2,
       "version_minor": 0,
       "model_id": "166cf95d8ca24183a884891072538e3c"
      }
     },
     "metadata": {},
     "output_type": "display_data"
    }
   ],
   "execution_count": 17
  },
  {
   "metadata": {
    "ExecuteTime": {
     "end_time": "2024-06-22T20:46:38.428295Z",
     "start_time": "2024-06-22T20:46:30.498459Z"
    }
   },
   "cell_type": "code",
   "source": "spark.sql(\"select * from glue_catalog.playground.demo.metadata_log_entries\").show(truncate=False)",
   "id": "7773d79c4789cc9",
   "outputs": [
    {
     "data": {
      "text/plain": [
       "FloatProgress(value=0.0, bar_style='info', description='Progress:', layout=Layout(height='25px', width='50%'),…"
      ],
      "application/vnd.jupyter.widget-view+json": {
       "version_major": 2,
       "version_minor": 0,
       "model_id": "7039cb95f1c14e268b7b226934d009ac"
      }
     },
     "metadata": {},
     "output_type": "display_data"
    },
    {
     "name": "stdout",
     "output_type": "stream",
     "text": [
      "+-----------------------+-----------------------------------------------------------------------------------------------------+-------------------+----------------+----------------------+\n",
      "|timestamp              |file                                                                                                 |latest_snapshot_id |latest_schema_id|latest_sequence_number|\n",
      "+-----------------------+-----------------------------------------------------------------------------------------------------+-------------------+----------------+----------------------+\n",
      "|2024-06-22 20:14:45.207|s3://mxtdw-audit-gamma/demo_iceberg/metadata/00000-54f3d2dc-8b86-4b24-9ecd-741034ae757b.metadata.json|null               |null            |null                  |\n",
      "|2024-06-22 20:38:45.767|s3://mxtdw-audit-gamma/demo_iceberg/metadata/00001-90aee3a9-521d-4f19-a1df-6d1eddb9aa64.metadata.json|3713858578440833675|0               |1                     |\n",
      "+-----------------------+-----------------------------------------------------------------------------------------------------+-------------------+----------------+----------------------+"
     ]
    }
   ],
   "execution_count": 25
  },
  {
   "metadata": {},
   "cell_type": "code",
   "outputs": [
    {
     "data": {
      "text/plain": [
       "FloatProgress(value=0.0, bar_style='info', description='Progress:', layout=Layout(height='25px', width='50%'),…"
      ],
      "application/vnd.jupyter.widget-view+json": {
       "version_major": 2,
       "version_minor": 0,
       "model_id": "0ecd38ceb4a44ee69081610b95bc5a3a"
      }
     },
     "metadata": {},
     "output_type": "display_data"
    },
    {
     "name": "stdout",
     "output_type": "stream",
     "text": [
      "+-------+-------------------------------------------------------------------------------------------------------------------------------------------------------+-----------+-------+------------------------+------------+------------------+---------------------------------------------------------------+--------------------------------------------------------+--------------------------------------------------------+----------------+------------------------------------------------------------------------------------------------------------------------------+------------------------------------------------------------------------------------------------------------------------------+------------+-------------+------------+-------------+----------------------------------------------------------------------------------------------------------------------------------------------------------------------------------------------------------------------------------------------------------------------------------------------------------------+\n",
      "|content|file_path                                                                                                                                              |file_format|spec_id|partition               |record_count|file_size_in_bytes|column_sizes                                                   |value_counts                                            |null_value_counts                                       |nan_value_counts|lower_bounds                                                                                                                  |upper_bounds                                                                                                                  |key_metadata|split_offsets|equality_ids|sort_order_id|readable_metrics                                                                                                                                                                                                                                                                                                |\n",
      "+-------+-------------------------------------------------------------------------------------------------------------------------------------------------------+-----------+-------+------------------------+------------+------------------+---------------------------------------------------------------+--------------------------------------------------------+--------------------------------------------------------+----------------+------------------------------------------------------------------------------------------------------------------------------+------------------------------------------------------------------------------------------------------------------------------+------------+-------------+------------+-------------+----------------------------------------------------------------------------------------------------------------------------------------------------------------------------------------------------------------------------------------------------------------------------------------------------------------+\n",
      "|0      |s3://mxtdw-audit-gamma/demo_iceberg/data/country=India/ingestion_date_year=2024/00000-9-78b61439-8ba1-41c2-b645-2927c9ad110f-00001.parquet             |PARQUET    |0      |{India, 54}             |1           |2178              |{1 -> 54, 2 -> 56, 3 -> 67, 4 -> 46, 5 -> 42, 6 -> 47, 7 -> 36}|{1 -> 1, 2 -> 1, 3 -> 1, 4 -> 1, 5 -> 1, 6 -> 1, 7 -> 1}|{1 -> 0, 2 -> 0, 3 -> 0, 4 -> 0, 5 -> 0, 6 -> 0, 7 -> 0}|{}              |{1 -> Price Savage, 2 -> (424) 562-4115, 3 -> varius.ultrices@, 4 -> ��\\b\u0000\u0000\u0000\u0000\u0000, 5 -> \\a\u0000\u0000\u0000, 6 -> India, 7 -> �M\u0000\u0000}            |{1 -> Price Savage, 2 -> (424) 562-4115, 3 -> varius.ultricesA, 4 -> ��\\b\u0000\u0000\u0000\u0000\u0000, 5 -> \\a\u0000\u0000\u0000, 6 -> India, 7 -> �M\u0000\u0000}            |null        |[4]          |null        |0            |{{47, 1, 0, null, India, India}, {67, 1, 0, null, varius.ultrices@, varius.ultricesA}, {36, 1, 0, null, 2024-06-22, 2024-06-22}, {54, 1, 0, null, Price Savage, Price Savage}, {42, 1, 0, null, 7, 7}, {56, 1, 0, null, (424) 562-4115, (424) 562-4115}, {46, 1, 0, null, 586986, 586986}}                      |\n",
      "|0      |s3://mxtdw-audit-gamma/demo_iceberg/data/country=Nigeria/ingestion_date_year=2024/00000-9-78b61439-8ba1-41c2-b645-2927c9ad110f-00002.parquet           |PARQUET    |0      |{Nigeria, 54}           |1           |2168              |{1 -> 57, 2 -> 56, 3 -> 61, 4 -> 46, 5 -> 42, 6 -> 49, 7 -> 36}|{1 -> 1, 2 -> 1, 3 -> 1, 4 -> 1, 5 -> 1, 6 -> 1, 7 -> 1}|{1 -> 0, 2 -> 0, 3 -> 0, 4 -> 0, 5 -> 0, 6 -> 0, 7 -> 0}|{}              |{1 -> Katell Buchanan, 2 -> (935) 445-9637, 3 -> magna@protonmail, 4 -> ��\u0000\u0000\u0000\u0000\u0000\u0000, 5 -> \\t\u0000\u0000\u0000, 6 -> Nigeria, 7 -> �M\u0000\u0000}        |{1 -> Katell Buchanan, 2 -> (935) 445-9637, 3 -> magna@protonmaim, 4 -> ��\u0000\u0000\u0000\u0000\u0000\u0000, 5 -> \\t\u0000\u0000\u0000, 6 -> Nigeria, 7 -> �M\u0000\u0000}        |null        |[4]          |null        |0            |{{49, 1, 0, null, Nigeria, Nigeria}, {61, 1, 0, null, magna@protonmail, magna@protonmaim}, {36, 1, 0, null, 2024-06-22, 2024-06-22}, {57, 1, 0, null, Katell Buchanan, Katell Buchanan}, {42, 1, 0, null, 9, 9}, {56, 1, 0, null, (935) 445-9637, (935) 445-9637}, {46, 1, 0, null, 55526, 55526}}              |\n",
      "|0      |s3://mxtdw-audit-gamma/demo_iceberg/data/country=Poland/ingestion_date_year=2024/00000-9-78b61439-8ba1-41c2-b645-2927c9ad110f-00003.parquet            |PARQUET    |0      |{Poland, 54}            |1           |2236              |{1 -> 53, 2 -> 56, 3 -> 76, 4 -> 46, 5 -> 42, 6 -> 48, 7 -> 36}|{1 -> 1, 2 -> 1, 3 -> 1, 4 -> 1, 5 -> 1, 6 -> 1, 7 -> 1}|{1 -> 0, 2 -> 0, 3 -> 0, 4 -> 0, 5 -> 0, 6 -> 0, 7 -> 0}|{}              |{1 -> Leigh Young, 2 -> 1-808-725-8983, 3 -> ultrices.posuere, 4 -> *\u0013\u0000\u0000\u0000\u0000\u0000\u0000, 5 -> \\a\u0000\u0000\u0000, 6 -> Poland, 7 -> �M\u0000\u0000}             |{1 -> Leigh Young, 2 -> 1-808-725-8983, 3 -> ultrices.posuerf, 4 -> *\u0013\u0000\u0000\u0000\u0000\u0000\u0000, 5 -> \\a\u0000\u0000\u0000, 6 -> Poland, 7 -> �M\u0000\u0000}             |null        |[4]          |null        |0            |{{48, 1, 0, null, Poland, Poland}, {76, 1, 0, null, ultrices.posuere, ultrices.posuerf}, {36, 1, 0, null, 2024-06-22, 2024-06-22}, {53, 1, 0, null, Leigh Young, Leigh Young}, {42, 1, 0, null, 7, 7}, {56, 1, 0, null, 1-808-725-8983, 1-808-725-8983}, {46, 1, 0, null, 4906, 4906}}                          |\n",
      "|0      |s3://mxtdw-audit-gamma/demo_iceberg/data/country=Russian+Federation/ingestion_date_year=2024/00000-9-78b61439-8ba1-41c2-b645-2927c9ad110f-00004.parquet|PARQUET    |0      |{Russian Federation, 54}|1           |2276              |{1 -> 53, 2 -> 56, 3 -> 69, 4 -> 46, 5 -> 42, 6 -> 60, 7 -> 36}|{1 -> 1, 2 -> 1, 3 -> 1, 4 -> 1, 5 -> 1, 6 -> 1, 7 -> 1}|{1 -> 0, 2 -> 0, 3 -> 0, 4 -> 0, 5 -> 0, 6 -> 0, 7 -> 0}|{}              |{1 -> Odette Logan, 2 -> 1-562-786-9778, 3 -> ultricies.ligula, 4 -> %\u0004\u0000\u0000\u0000\u0000\u0000\u0000, 5 -> \\b\u0000\u0000\u0000, 6 -> Russian Federation, 7 -> �M\u0000\u0000}|{1 -> Odette Logan, 2 -> 1-562-786-9778, 3 -> ultricies.ligulb, 4 -> %\u0004\u0000\u0000\u0000\u0000\u0000\u0000, 5 -> \\b\u0000\u0000\u0000, 6 -> Russian Federation, 7 -> �M\u0000\u0000}|null        |[4]          |null        |0            |{{60, 1, 0, null, Russian Federation, Russian Federation}, {69, 1, 0, null, ultricies.ligula, ultricies.ligulb}, {36, 1, 0, null, 2024-06-22, 2024-06-22}, {53, 1, 0, null, Odette Logan, Odette Logan}, {42, 1, 0, null, 8, 8}, {56, 1, 0, null, 1-562-786-9778, 1-562-786-9778}, {46, 1, 0, null, 1061, 1061}}|\n",
      "|0      |s3://mxtdw-audit-gamma/demo_iceberg/data/country=Vietnam/ingestion_date_year=2024/00000-9-78b61439-8ba1-41c2-b645-2927c9ad110f-00005.parquet           |PARQUET    |0      |{Vietnam, 54}           |1           |2155              |{1 -> 55, 2 -> 56, 3 -> 62, 4 -> 46, 5 -> 42, 6 -> 49, 7 -> 36}|{1 -> 1, 2 -> 1, 3 -> 1, 4 -> 1, 5 -> 1, 6 -> 1, 7 -> 1}|{1 -> 0, 2 -> 0, 3 -> 0, 4 -> 0, 5 -> 0, 6 -> 0, 7 -> 0}|{}              |{1 -> Bianca Sexton, 2 -> 1-383-310-3697, 3 -> risus.at@outlook, 4 -> ;�\u0001\u0000\u0000\u0000\u0000\u0000, 5 -> \u0000\u0000\u0000\u0000, 6 -> Vietnam, 7 -> �M\u0000\u0000}           |{1 -> Bianca Sexton, 2 -> 1-383-310-3697, 3 -> risus.at@outlool, 4 -> ;�\u0001\u0000\u0000\u0000\u0000\u0000, 5 -> \u0000\u0000\u0000\u0000, 6 -> Vietnam, 7 -> �M\u0000\u0000}           |null        |[4]          |null        |0            |{{49, 1, 0, null, Vietnam, Vietnam}, {62, 1, 0, null, risus.at@outlook, risus.at@outlool}, {36, 1, 0, null, 2024-06-22, 2024-06-22}, {55, 1, 0, null, Bianca Sexton, Bianca Sexton}, {42, 1, 0, null, 0, 0}, {56, 1, 0, null, 1-383-310-3697, 1-383-310-3697}, {46, 1, 0, null, 115771, 115771}}                |\n",
      "+-------+-------------------------------------------------------------------------------------------------------------------------------------------------------+-----------+-------+------------------------+------------+------------------+---------------------------------------------------------------+--------------------------------------------------------+--------------------------------------------------------+----------------+------------------------------------------------------------------------------------------------------------------------------+------------------------------------------------------------------------------------------------------------------------------+------------+-------------+------------+-------------+----------------------------------------------------------------------------------------------------------------------------------------------------------------------------------------------------------------------------------------------------------------------------------------------------------------+"
     ]
    }
   ],
   "execution_count": 23,
   "source": "spark.sql(\"select * from glue_catalog.playground.demo.files\").show(truncate=False)",
   "id": "e20205aa8bd7ddbf"
  },
  {
   "metadata": {},
   "cell_type": "code",
   "outputs": [
    {
     "data": {
      "text/plain": [
       "FloatProgress(value=0.0, bar_style='info', description='Progress:', layout=Layout(height='25px', width='50%'),…"
      ],
      "application/vnd.jupyter.widget-view+json": {
       "version_major": 2,
       "version_minor": 0,
       "model_id": "6a1b4ca0ead1426ea614ec1b0bec2529"
      }
     },
     "metadata": {},
     "output_type": "display_data"
    },
    {
     "name": "stdout",
     "output_type": "stream",
     "text": [
      "+-----------------------+-------------------+---------+---------+-----------------------------------------------------------------------------------------------------------------+-------------------------------------------------------------------------------------------------------------------------------------------------------------------------------------------------------------------------------------------------------------------------------------------------------------+\n",
      "|committed_at           |snapshot_id        |parent_id|operation|manifest_list                                                                                                    |summary                                                                                                                                                                                                                                                                                                      |\n",
      "+-----------------------+-------------------+---------+---------+-----------------------------------------------------------------------------------------------------------------+-------------------------------------------------------------------------------------------------------------------------------------------------------------------------------------------------------------------------------------------------------------------------------------------------------------+\n",
      "|2024-06-22 20:38:45.767|3713858578440833675|null     |append   |s3://mxtdw-audit-gamma/demo_iceberg/metadata/snap-3713858578440833675-1-99bb0c2c-45c5-47a8-bafa-ba824594195f.avro|{spark.app.id -> application_1718585345363_0006, added-data-files -> 5, added-records -> 5, added-files-size -> 11013, changed-partition-count -> 5, total-records -> 5, total-files-size -> 11013, total-data-files -> 5, total-delete-files -> 0, total-position-deletes -> 0, total-equality-deletes -> 0}|\n",
      "+-----------------------+-------------------+---------+---------+-----------------------------------------------------------------------------------------------------------------+-------------------------------------------------------------------------------------------------------------------------------------------------------------------------------------------------------------------------------------------------------------------------------------------------------------+"
     ]
    }
   ],
   "execution_count": 22,
   "source": "spark.sql(\"select * from glue_catalog.playground.demo.snapshots\").show(truncate=False)",
   "id": "202db1b82cf2be64"
  },
  {
   "metadata": {
    "ExecuteTime": {
     "end_time": "2024-06-22T20:50:49.062270Z",
     "start_time": "2024-06-22T20:50:48.639838Z"
    }
   },
   "cell_type": "code",
   "source": "spark.read.format(\"avro\").load(\"s3://mxtdw-audit-gamma/demo_iceberg/metadata/snap-3713858578440833675-1-99bb0c2c-45c5-47a8-bafa-ba824594195f.avro\").show(truncate=False)",
   "id": "cde2b036d1a57572",
   "outputs": [
    {
     "data": {
      "text/plain": [
       "FloatProgress(value=0.0, bar_style='info', description='Progress:', layout=Layout(height='25px', width='50%'),…"
      ],
      "application/vnd.jupyter.widget-view+json": {
       "version_major": 2,
       "version_minor": 0,
       "model_id": "bb28c429148b4cff8310da3bfc2fc1c4"
      }
     },
     "metadata": {},
     "output_type": "display_data"
    },
    {
     "name": "stdout",
     "output_type": "stream",
     "text": [
      "+-----------------------------------------------------------------------------------------+---------------+-----------------+-------+---------------+-------------------+-------------------+----------------------+-------------------------+------------------------+----------------+-------------------+------------------+------------------------------------------------------------+\n",
      "|manifest_path                                                                            |manifest_length|partition_spec_id|content|sequence_number|min_sequence_number|added_snapshot_id  |added_data_files_count|existing_data_files_count|deleted_data_files_count|added_rows_count|existing_rows_count|deleted_rows_count|partitions                                                  |\n",
      "+-----------------------------------------------------------------------------------------+---------------+-----------------+-------+---------------+-------------------+-------------------+----------------------+-------------------------+------------------------+----------------+-------------------+------------------+------------------------------------------------------------+\n",
      "|s3://mxtdw-audit-gamma/demo_iceberg/metadata/99bb0c2c-45c5-47a8-bafa-ba824594195f-m0.avro|7919           |0                |0      |1              |1                  |3713858578440833675|5                     |0                        |0                       |5               |0                  |0                 |[{false, false, India, Vietnam}, {false, false, 6\u0000\u0000\u0000, 6\u0000\u0000\u0000}]|\n",
      "+-----------------------------------------------------------------------------------------+---------------+-----------------+-------+---------------+-------------------+-------------------+----------------------+-------------------------+------------------------+----------------+-------------------+------------------+------------------------------------------------------------+"
     ]
    }
   ],
   "execution_count": 28
  },
  {
   "metadata": {
    "ExecuteTime": {
     "end_time": "2024-06-22T21:01:48.617510Z",
     "start_time": "2024-06-22T21:01:40.300971Z"
    }
   },
   "cell_type": "code",
   "source": "spark.read.format(\"avro\").load(\"s3://mxtdw-audit-gamma/demo_iceberg/metadata/99bb0c2c-45c5-47a8-bafa-ba824594195f-m0.avro\").show(truncate=False)",
   "id": "519e03f12b382476",
   "outputs": [
    {
     "data": {
      "text/plain": [
       "FloatProgress(value=0.0, bar_style='info', description='Progress:', layout=Layout(height='25px', width='50%'),…"
      ],
      "application/vnd.jupyter.widget-view+json": {
       "version_major": 2,
       "version_minor": 0,
       "model_id": "33cc7f1d388b40d7897b9e5484d7500f"
      }
     },
     "metadata": {},
     "output_type": "display_data"
    },
    {
     "name": "stdout",
     "output_type": "stream",
     "text": [
      "+------+-------------------+---------------+--------------------+-------------------------------------------------------------------------------------------------------------------------------------------------------------------------------------------------------------------------------------------------------------------------------------------------------------------------------------------------------------------------------------------------------------------------------------------------------------------------------------------------------------------------------------------------------------------------------------------------------------------------------------------------------------------------------------+\n",
      "|status|snapshot_id        |sequence_number|file_sequence_number|data_file                                                                                                                                                                                                                                                                                                                                                                                                                                                                                                                                                                                                                                                                            |\n",
      "+------+-------------------+---------------+--------------------+-------------------------------------------------------------------------------------------------------------------------------------------------------------------------------------------------------------------------------------------------------------------------------------------------------------------------------------------------------------------------------------------------------------------------------------------------------------------------------------------------------------------------------------------------------------------------------------------------------------------------------------------------------------------------------------+\n",
      "|1     |3713858578440833675|null           |null                |{0, s3://mxtdw-audit-gamma/demo_iceberg/data/country=India/ingestion_date_year=2024/00000-9-78b61439-8ba1-41c2-b645-2927c9ad110f-00001.parquet, PARQUET, {India, 54}, 1, 2178, [{1, 54}, {2, 56}, {3, 67}, {4, 46}, {5, 42}, {6, 47}, {7, 36}], [{1, 1}, {2, 1}, {3, 1}, {4, 1}, {5, 1}, {6, 1}, {7, 1}], [{1, 0}, {2, 0}, {3, 0}, {4, 0}, {5, 0}, {6, 0}, {7, 0}], [], [{1, Price Savage}, {2, (424) 562-4115}, {3, varius.ultrices@}, {4, ��\\b\u0000\u0000\u0000\u0000\u0000}, {5, \\a\u0000\u0000\u0000}, {6, India}, {7, �M\u0000\u0000}], [{1, Price Savage}, {2, (424) 562-4115}, {3, varius.ultricesA}, {4, ��\\b\u0000\u0000\u0000\u0000\u0000}, {5, \\a\u0000\u0000\u0000}, {6, India}, {7, �M\u0000\u0000}], null, [4], null, 0}                                                  |\n",
      "|1     |3713858578440833675|null           |null                |{0, s3://mxtdw-audit-gamma/demo_iceberg/data/country=Nigeria/ingestion_date_year=2024/00000-9-78b61439-8ba1-41c2-b645-2927c9ad110f-00002.parquet, PARQUET, {Nigeria, 54}, 1, 2168, [{1, 57}, {2, 56}, {3, 61}, {4, 46}, {5, 42}, {6, 49}, {7, 36}], [{1, 1}, {2, 1}, {3, 1}, {4, 1}, {5, 1}, {6, 1}, {7, 1}], [{1, 0}, {2, 0}, {3, 0}, {4, 0}, {5, 0}, {6, 0}, {7, 0}], [], [{1, Katell Buchanan}, {2, (935) 445-9637}, {3, magna@protonmail}, {4, ��\u0000\u0000\u0000\u0000\u0000\u0000}, {5, \\t\u0000\u0000\u0000}, {6, Nigeria}, {7, �M\u0000\u0000}], [{1, Katell Buchanan}, {2, (935) 445-9637}, {3, magna@protonmaim}, {4, ��\u0000\u0000\u0000\u0000\u0000\u0000}, {5, \\t\u0000\u0000\u0000}, {6, Nigeria}, {7, �M\u0000\u0000}], null, [4], null, 0}                                      |\n",
      "|1     |3713858578440833675|null           |null                |{0, s3://mxtdw-audit-gamma/demo_iceberg/data/country=Poland/ingestion_date_year=2024/00000-9-78b61439-8ba1-41c2-b645-2927c9ad110f-00003.parquet, PARQUET, {Poland, 54}, 1, 2236, [{1, 53}, {2, 56}, {3, 76}, {4, 46}, {5, 42}, {6, 48}, {7, 36}], [{1, 1}, {2, 1}, {3, 1}, {4, 1}, {5, 1}, {6, 1}, {7, 1}], [{1, 0}, {2, 0}, {3, 0}, {4, 0}, {5, 0}, {6, 0}, {7, 0}], [], [{1, Leigh Young}, {2, 1-808-725-8983}, {3, ultrices.posuere}, {4, *\u0013\u0000\u0000\u0000\u0000\u0000\u0000}, {5, \\a\u0000\u0000\u0000}, {6, Poland}, {7, �M\u0000\u0000}], [{1, Leigh Young}, {2, 1-808-725-8983}, {3, ultrices.posuerf}, {4, *\u0013\u0000\u0000\u0000\u0000\u0000\u0000}, {5, \\a\u0000\u0000\u0000}, {6, Poland}, {7, �M\u0000\u0000}], null, [4], null, 0}                                                  |\n",
      "|1     |3713858578440833675|null           |null                |{0, s3://mxtdw-audit-gamma/demo_iceberg/data/country=Russian+Federation/ingestion_date_year=2024/00000-9-78b61439-8ba1-41c2-b645-2927c9ad110f-00004.parquet, PARQUET, {Russian Federation, 54}, 1, 2276, [{1, 53}, {2, 56}, {3, 69}, {4, 46}, {5, 42}, {6, 60}, {7, 36}], [{1, 1}, {2, 1}, {3, 1}, {4, 1}, {5, 1}, {6, 1}, {7, 1}], [{1, 0}, {2, 0}, {3, 0}, {4, 0}, {5, 0}, {6, 0}, {7, 0}], [], [{1, Odette Logan}, {2, 1-562-786-9778}, {3, ultricies.ligula}, {4, %\u0004\u0000\u0000\u0000\u0000\u0000\u0000}, {5, \\b\u0000\u0000\u0000}, {6, Russian Federation}, {7, �M\u0000\u0000}], [{1, Odette Logan}, {2, 1-562-786-9778}, {3, ultricies.ligulb}, {4, %\u0004\u0000\u0000\u0000\u0000\u0000\u0000}, {5, \\b\u0000\u0000\u0000}, {6, Russian Federation}, {7, �M\u0000\u0000}], null, [4], null, 0}|\n",
      "|1     |3713858578440833675|null           |null                |{0, s3://mxtdw-audit-gamma/demo_iceberg/data/country=Vietnam/ingestion_date_year=2024/00000-9-78b61439-8ba1-41c2-b645-2927c9ad110f-00005.parquet, PARQUET, {Vietnam, 54}, 1, 2155, [{1, 55}, {2, 56}, {3, 62}, {4, 46}, {5, 42}, {6, 49}, {7, 36}], [{1, 1}, {2, 1}, {3, 1}, {4, 1}, {5, 1}, {6, 1}, {7, 1}], [{1, 0}, {2, 0}, {3, 0}, {4, 0}, {5, 0}, {6, 0}, {7, 0}], [], [{1, Bianca Sexton}, {2, 1-383-310-3697}, {3, risus.at@outlook}, {4, ;�\u0001\u0000\u0000\u0000\u0000\u0000}, {5, \u0000\u0000\u0000\u0000}, {6, Vietnam}, {7, �M\u0000\u0000}], [{1, Bianca Sexton}, {2, 1-383-310-3697}, {3, risus.at@outlool}, {4, ;�\u0001\u0000\u0000\u0000\u0000\u0000}, {5, \u0000\u0000\u0000\u0000}, {6, Vietnam}, {7, �M\u0000\u0000}], null, [4], null, 0}                                            |\n",
      "+------+-------------------+---------------+--------------------+-------------------------------------------------------------------------------------------------------------------------------------------------------------------------------------------------------------------------------------------------------------------------------------------------------------------------------------------------------------------------------------------------------------------------------------------------------------------------------------------------------------------------------------------------------------------------------------------------------------------------------------------------------------------------------------+"
     ]
    }
   ],
   "execution_count": 30
  },
  {
   "metadata": {},
   "cell_type": "markdown",
   "source": "Running Update command",
   "id": "4e64bd3e69dff852"
  },
  {
   "metadata": {
    "ExecuteTime": {
     "end_time": "2024-06-22T21:21:20.904317Z",
     "start_time": "2024-06-22T21:21:06.896811Z"
    }
   },
   "cell_type": "code",
   "source": [
    "spark.sql(\"\"\"\n",
    "    update glue_catalog.playground.demo set postalZip = 75234 \n",
    "    where number =7;\n",
    "\"\"\")"
   ],
   "id": "8527b48fc0adc9e6",
   "outputs": [
    {
     "data": {
      "text/plain": [
       "FloatProgress(value=0.0, bar_style='info', description='Progress:', layout=Layout(height='25px', width='50%'),…"
      ],
      "application/vnd.jupyter.widget-view+json": {
       "version_major": 2,
       "version_minor": 0,
       "model_id": "d333e8c3df9c4a3985c9c055842a2f75"
      }
     },
     "metadata": {},
     "output_type": "display_data"
    },
    {
     "name": "stdout",
     "output_type": "stream",
     "text": [
      "DataFrame[]"
     ]
    }
   ],
   "execution_count": 31
  },
  {
   "metadata": {},
   "cell_type": "code",
   "outputs": [
    {
     "data": {
      "text/plain": [
       "FloatProgress(value=0.0, bar_style='info', description='Progress:', layout=Layout(height='25px', width='50%'),…"
      ],
      "application/vnd.jupyter.widget-view+json": {
       "version_major": 2,
       "version_minor": 0,
       "model_id": "669f3d1fbe914f0c97c9e7971aa8be32"
      }
     },
     "metadata": {},
     "output_type": "display_data"
    },
    {
     "name": "stdout",
     "output_type": "stream",
     "text": [
      "+---------------+--------------+----------------------------------+---------+------+------------------+--------------+\n",
      "|name           |phone         |email                             |postalZip|number|country           |ingestion_date|\n",
      "+---------------+--------------+----------------------------------+---------+------+------------------+--------------+\n",
      "|Price Savage   |(424) 562-4115|varius.ultrices@google.net        |75234    |7     |India             |2024-06-22    |\n",
      "|Leigh Young    |1-808-725-8983|ultrices.posuere.cubilia@yahoo.com|75234    |7     |Poland            |2024-06-22    |\n",
      "|Katell Buchanan|(935) 445-9637|magna@protonmail.net              |55526    |9     |Nigeria           |2024-06-22    |\n",
      "|Odette Logan   |1-562-786-9778|ultricies.ligula@icloud.net       |1061     |8     |Russian Federation|2024-06-22    |\n",
      "|Bianca Sexton  |1-383-310-3697|risus.at@outlook.net              |115771   |0     |Vietnam           |2024-06-22    |\n",
      "+---------------+--------------+----------------------------------+---------+------+------------------+--------------+"
     ]
    }
   ],
   "execution_count": 32,
   "source": "spark.sql(\"select * from glue_catalog.playground.demo\").show(truncate=False)",
   "id": "797b892f2ff5fca8"
  },
  {
   "metadata": {
    "ExecuteTime": {
     "end_time": "2024-06-22T21:24:57.168893Z",
     "start_time": "2024-06-22T21:24:49.367213Z"
    }
   },
   "cell_type": "code",
   "source": "spark.sql(\"select * from glue_catalog.playground.demo.snapshots order by committed_at desc\").show(truncate=False)",
   "id": "5481b7fda95aced3",
   "outputs": [
    {
     "data": {
      "text/plain": [
       "FloatProgress(value=0.0, bar_style='info', description='Progress:', layout=Layout(height='25px', width='50%'),…"
      ],
      "application/vnd.jupyter.widget-view+json": {
       "version_major": 2,
       "version_minor": 0,
       "model_id": "19e6d0b684ea462186358f3abd4964ca"
      }
     },
     "metadata": {},
     "output_type": "display_data"
    },
    {
     "name": "stdout",
     "output_type": "stream",
     "text": [
      "+-----------------------+-------------------+-------------------+---------+-----------------------------------------------------------------------------------------------------------------+---------------------------------------------------------------------------------------------------------------------------------------------------------------------------------------------------------------------------------------------------------------------------------------------------------------------------------------------------------------------------------------+\n",
      "|committed_at           |snapshot_id        |parent_id          |operation|manifest_list                                                                                                    |summary                                                                                                                                                                                                                                                                                                                                                                                |\n",
      "+-----------------------+-------------------+-------------------+---------+-----------------------------------------------------------------------------------------------------------------+---------------------------------------------------------------------------------------------------------------------------------------------------------------------------------------------------------------------------------------------------------------------------------------------------------------------------------------------------------------------------------------+\n",
      "|2024-06-22 21:21:19.331|4680088034666527875|3713858578440833675|overwrite|s3://mxtdw-audit-gamma/demo_iceberg/metadata/snap-4680088034666527875-1-050eb5cc-5d37-4145-9882-53cd4e11db58.avro|{spark.app.id -> application_1718585345363_0006, added-data-files -> 2, deleted-data-files -> 2, added-records -> 2, deleted-records -> 2, added-files-size -> 4430, removed-files-size -> 4414, changed-partition-count -> 2, total-records -> 5, total-files-size -> 11029, total-data-files -> 5, total-delete-files -> 0, total-position-deletes -> 0, total-equality-deletes -> 0}|\n",
      "|2024-06-22 20:38:45.767|3713858578440833675|null               |append   |s3://mxtdw-audit-gamma/demo_iceberg/metadata/snap-3713858578440833675-1-99bb0c2c-45c5-47a8-bafa-ba824594195f.avro|{spark.app.id -> application_1718585345363_0006, added-data-files -> 5, added-records -> 5, added-files-size -> 11013, changed-partition-count -> 5, total-records -> 5, total-files-size -> 11013, total-data-files -> 5, total-delete-files -> 0, total-position-deletes -> 0, total-equality-deletes -> 0}                                                                          |\n",
      "+-----------------------+-------------------+-------------------+---------+-----------------------------------------------------------------------------------------------------------------+---------------------------------------------------------------------------------------------------------------------------------------------------------------------------------------------------------------------------------------------------------------------------------------------------------------------------------------------------------------------------------------+"
     ]
    }
   ],
   "execution_count": 36
  },
  {
   "metadata": {},
   "cell_type": "code",
   "outputs": [
    {
     "data": {
      "text/plain": [
       "FloatProgress(value=0.0, bar_style='info', description='Progress:', layout=Layout(height='25px', width='50%'),…"
      ],
      "application/vnd.jupyter.widget-view+json": {
       "version_major": 2,
       "version_minor": 0,
       "model_id": "61c75743542a44b19767a02b96498fc5"
      }
     },
     "metadata": {},
     "output_type": "display_data"
    },
    {
     "name": "stdout",
     "output_type": "stream",
     "text": [
      "+-----------------------+-----------------------------------------------------------------------------------------------------+-------------------+----------------+----------------------+\n",
      "|timestamp              |file                                                                                                 |latest_snapshot_id |latest_schema_id|latest_sequence_number|\n",
      "+-----------------------+-----------------------------------------------------------------------------------------------------+-------------------+----------------+----------------------+\n",
      "|2024-06-22 20:14:45.207|s3://mxtdw-audit-gamma/demo_iceberg/metadata/00000-54f3d2dc-8b86-4b24-9ecd-741034ae757b.metadata.json|null               |null            |null                  |\n",
      "|2024-06-22 20:38:45.767|s3://mxtdw-audit-gamma/demo_iceberg/metadata/00001-90aee3a9-521d-4f19-a1df-6d1eddb9aa64.metadata.json|3713858578440833675|0               |1                     |\n",
      "|2024-06-22 21:21:19.331|s3://mxtdw-audit-gamma/demo_iceberg/metadata/00002-555abbb4-5858-403b-a9ed-5de8a93f40e5.metadata.json|4680088034666527875|0               |2                     |\n",
      "+-----------------------+-----------------------------------------------------------------------------------------------------+-------------------+----------------+----------------------+"
     ]
    }
   ],
   "execution_count": 33,
   "source": "spark.sql(\"select * from glue_catalog.playground.demo.metadata_log_entries\").show(truncate=False)",
   "id": "da48b082c3048814"
  },
  {
   "metadata": {
    "ExecuteTime": {
     "end_time": "2024-06-22T22:14:03.609883Z",
     "start_time": "2024-06-22T22:13:53.691773Z"
    }
   },
   "cell_type": "code",
   "source": [
    "spark.sql(\"select * from glue_catalog.playground.demo.files\").show(truncate=False)\n",
    "#if you take any files from this list , it will only give the updated files which contains the updated data "
   ],
   "id": "69668002055c8a5a",
   "outputs": [
    {
     "data": {
      "text/plain": [
       "FloatProgress(value=0.0, bar_style='info', description='Progress:', layout=Layout(height='25px', width='50%'),…"
      ],
      "application/vnd.jupyter.widget-view+json": {
       "version_major": 2,
       "version_minor": 0,
       "model_id": "cad8254cbf084446b1f72a26cec8e5a2"
      }
     },
     "metadata": {},
     "output_type": "display_data"
    },
    {
     "name": "stdout",
     "output_type": "stream",
     "text": [
      "+-------+-------------------------------------------------------------------------------------------------------------------------------------------------------+-----------+-------+------------------------+------------+------------------+---------------------------------------------------------------+--------------------------------------------------------+--------------------------------------------------------+----------------+------------------------------------------------------------------------------------------------------------------------------+------------------------------------------------------------------------------------------------------------------------------+------------+-------------+------------+-------------+----------------------------------------------------------------------------------------------------------------------------------------------------------------------------------------------------------------------------------------------------------------------------------------------------------------+\n",
      "|content|file_path                                                                                                                                              |file_format|spec_id|partition               |record_count|file_size_in_bytes|column_sizes                                                   |value_counts                                            |null_value_counts                                       |nan_value_counts|lower_bounds                                                                                                                  |upper_bounds                                                                                                                  |key_metadata|split_offsets|equality_ids|sort_order_id|readable_metrics                                                                                                                                                                                                                                                                                                |\n",
      "+-------+-------------------------------------------------------------------------------------------------------------------------------------------------------+-----------+-------+------------------------+------------+------------------+---------------------------------------------------------------+--------------------------------------------------------+--------------------------------------------------------+----------------+------------------------------------------------------------------------------------------------------------------------------+------------------------------------------------------------------------------------------------------------------------------+------------+-------------+------------+-------------+----------------------------------------------------------------------------------------------------------------------------------------------------------------------------------------------------------------------------------------------------------------------------------------------------------------+\n",
      "|0      |s3://mxtdw-audit-gamma/demo_iceberg/data/country=India/ingestion_date_year=2024/00000-23-e4a0bb34-8eaa-4214-b2e6-48164fcad21f-00001.parquet            |PARQUET    |0      |{India, 54}             |1           |2186              |{1 -> 54, 2 -> 56, 3 -> 67, 4 -> 46, 5 -> 42, 6 -> 47, 7 -> 42}|{1 -> 1, 2 -> 1, 3 -> 1, 4 -> 1, 5 -> 1, 6 -> 1, 7 -> 1}|{1 -> 0, 2 -> 0, 3 -> 0, 4 -> 0, 5 -> 0, 6 -> 0, 7 -> 0}|{}              |{1 -> Price Savage, 2 -> (424) 562-4115, 3 -> varius.ultrices@, 4 -> �%\u0001\u0000\u0000\u0000\u0000\u0000, 5 -> \\a\u0000\u0000\u0000, 6 -> India, 7 -> �M\u0000\u0000}             |{1 -> Price Savage, 2 -> (424) 562-4115, 3 -> varius.ultricesA, 4 -> �%\u0001\u0000\u0000\u0000\u0000\u0000, 5 -> \\a\u0000\u0000\u0000, 6 -> India, 7 -> �M\u0000\u0000}             |null        |[4]          |null        |0            |{{47, 1, 0, null, India, India}, {67, 1, 0, null, varius.ultrices@, varius.ultricesA}, {42, 1, 0, null, 2024-06-22, 2024-06-22}, {54, 1, 0, null, Price Savage, Price Savage}, {42, 1, 0, null, 7, 7}, {56, 1, 0, null, (424) 562-4115, (424) 562-4115}, {46, 1, 0, null, 75234, 75234}}                        |\n",
      "|0      |s3://mxtdw-audit-gamma/demo_iceberg/data/country=Poland/ingestion_date_year=2024/00000-23-e4a0bb34-8eaa-4214-b2e6-48164fcad21f-00002.parquet           |PARQUET    |0      |{Poland, 54}            |1           |2244              |{1 -> 53, 2 -> 56, 3 -> 76, 4 -> 46, 5 -> 42, 6 -> 48, 7 -> 42}|{1 -> 1, 2 -> 1, 3 -> 1, 4 -> 1, 5 -> 1, 6 -> 1, 7 -> 1}|{1 -> 0, 2 -> 0, 3 -> 0, 4 -> 0, 5 -> 0, 6 -> 0, 7 -> 0}|{}              |{1 -> Leigh Young, 2 -> 1-808-725-8983, 3 -> ultrices.posuere, 4 -> �%\u0001\u0000\u0000\u0000\u0000\u0000, 5 -> \\a\u0000\u0000\u0000, 6 -> Poland, 7 -> �M\u0000\u0000}             |{1 -> Leigh Young, 2 -> 1-808-725-8983, 3 -> ultrices.posuerf, 4 -> �%\u0001\u0000\u0000\u0000\u0000\u0000, 5 -> \\a\u0000\u0000\u0000, 6 -> Poland, 7 -> �M\u0000\u0000}             |null        |[4]          |null        |0            |{{48, 1, 0, null, Poland, Poland}, {76, 1, 0, null, ultrices.posuere, ultrices.posuerf}, {42, 1, 0, null, 2024-06-22, 2024-06-22}, {53, 1, 0, null, Leigh Young, Leigh Young}, {42, 1, 0, null, 7, 7}, {56, 1, 0, null, 1-808-725-8983, 1-808-725-8983}, {46, 1, 0, null, 75234, 75234}}                        |\n",
      "|0      |s3://mxtdw-audit-gamma/demo_iceberg/data/country=Nigeria/ingestion_date_year=2024/00000-9-78b61439-8ba1-41c2-b645-2927c9ad110f-00002.parquet           |PARQUET    |0      |{Nigeria, 54}           |1           |2168              |{1 -> 57, 2 -> 56, 3 -> 61, 4 -> 46, 5 -> 42, 6 -> 49, 7 -> 36}|{1 -> 1, 2 -> 1, 3 -> 1, 4 -> 1, 5 -> 1, 6 -> 1, 7 -> 1}|{1 -> 0, 2 -> 0, 3 -> 0, 4 -> 0, 5 -> 0, 6 -> 0, 7 -> 0}|{}              |{1 -> Katell Buchanan, 2 -> (935) 445-9637, 3 -> magna@protonmail, 4 -> ��\u0000\u0000\u0000\u0000\u0000\u0000, 5 -> \\t\u0000\u0000\u0000, 6 -> Nigeria, 7 -> �M\u0000\u0000}        |{1 -> Katell Buchanan, 2 -> (935) 445-9637, 3 -> magna@protonmaim, 4 -> ��\u0000\u0000\u0000\u0000\u0000\u0000, 5 -> \\t\u0000\u0000\u0000, 6 -> Nigeria, 7 -> �M\u0000\u0000}        |null        |[4]          |null        |0            |{{49, 1, 0, null, Nigeria, Nigeria}, {61, 1, 0, null, magna@protonmail, magna@protonmaim}, {36, 1, 0, null, 2024-06-22, 2024-06-22}, {57, 1, 0, null, Katell Buchanan, Katell Buchanan}, {42, 1, 0, null, 9, 9}, {56, 1, 0, null, (935) 445-9637, (935) 445-9637}, {46, 1, 0, null, 55526, 55526}}              |\n",
      "|0      |s3://mxtdw-audit-gamma/demo_iceberg/data/country=Russian+Federation/ingestion_date_year=2024/00000-9-78b61439-8ba1-41c2-b645-2927c9ad110f-00004.parquet|PARQUET    |0      |{Russian Federation, 54}|1           |2276              |{1 -> 53, 2 -> 56, 3 -> 69, 4 -> 46, 5 -> 42, 6 -> 60, 7 -> 36}|{1 -> 1, 2 -> 1, 3 -> 1, 4 -> 1, 5 -> 1, 6 -> 1, 7 -> 1}|{1 -> 0, 2 -> 0, 3 -> 0, 4 -> 0, 5 -> 0, 6 -> 0, 7 -> 0}|{}              |{1 -> Odette Logan, 2 -> 1-562-786-9778, 3 -> ultricies.ligula, 4 -> %\u0004\u0000\u0000\u0000\u0000\u0000\u0000, 5 -> \\b\u0000\u0000\u0000, 6 -> Russian Federation, 7 -> �M\u0000\u0000}|{1 -> Odette Logan, 2 -> 1-562-786-9778, 3 -> ultricies.ligulb, 4 -> %\u0004\u0000\u0000\u0000\u0000\u0000\u0000, 5 -> \\b\u0000\u0000\u0000, 6 -> Russian Federation, 7 -> �M\u0000\u0000}|null        |[4]          |null        |0            |{{60, 1, 0, null, Russian Federation, Russian Federation}, {69, 1, 0, null, ultricies.ligula, ultricies.ligulb}, {36, 1, 0, null, 2024-06-22, 2024-06-22}, {53, 1, 0, null, Odette Logan, Odette Logan}, {42, 1, 0, null, 8, 8}, {56, 1, 0, null, 1-562-786-9778, 1-562-786-9778}, {46, 1, 0, null, 1061, 1061}}|\n",
      "|0      |s3://mxtdw-audit-gamma/demo_iceberg/data/country=Vietnam/ingestion_date_year=2024/00000-9-78b61439-8ba1-41c2-b645-2927c9ad110f-00005.parquet           |PARQUET    |0      |{Vietnam, 54}           |1           |2155              |{1 -> 55, 2 -> 56, 3 -> 62, 4 -> 46, 5 -> 42, 6 -> 49, 7 -> 36}|{1 -> 1, 2 -> 1, 3 -> 1, 4 -> 1, 5 -> 1, 6 -> 1, 7 -> 1}|{1 -> 0, 2 -> 0, 3 -> 0, 4 -> 0, 5 -> 0, 6 -> 0, 7 -> 0}|{}              |{1 -> Bianca Sexton, 2 -> 1-383-310-3697, 3 -> risus.at@outlook, 4 -> ;�\u0001\u0000\u0000\u0000\u0000\u0000, 5 -> \u0000\u0000\u0000\u0000, 6 -> Vietnam, 7 -> �M\u0000\u0000}           |{1 -> Bianca Sexton, 2 -> 1-383-310-3697, 3 -> risus.at@outlool, 4 -> ;�\u0001\u0000\u0000\u0000\u0000\u0000, 5 -> \u0000\u0000\u0000\u0000, 6 -> Vietnam, 7 -> �M\u0000\u0000}           |null        |[4]          |null        |0            |{{49, 1, 0, null, Vietnam, Vietnam}, {62, 1, 0, null, risus.at@outlook, risus.at@outlool}, {36, 1, 0, null, 2024-06-22, 2024-06-22}, {55, 1, 0, null, Bianca Sexton, Bianca Sexton}, {42, 1, 0, null, 0, 0}, {56, 1, 0, null, 1-383-310-3697, 1-383-310-3697}, {46, 1, 0, null, 115771, 115771}}                |\n",
      "+-------+-------------------------------------------------------------------------------------------------------------------------------------------------------+-----------+-------+------------------------+------------+------------------+---------------------------------------------------------------+--------------------------------------------------------+--------------------------------------------------------+----------------+------------------------------------------------------------------------------------------------------------------------------+------------------------------------------------------------------------------------------------------------------------------+------------+-------------+------------+-------------+----------------------------------------------------------------------------------------------------------------------------------------------------------------------------------------------------------------------------------------------------------------------------------------------------------------+"
     ]
    }
   ],
   "execution_count": 51
  },
  {
   "metadata": {},
   "cell_type": "markdown",
   "source": "## Reading Snapshots",
   "id": "f4cb2ea7bceaee06"
  },
  {
   "metadata": {
    "ExecuteTime": {
     "end_time": "2024-06-22T22:24:09.622088Z",
     "start_time": "2024-06-22T22:23:59.783380Z"
    }
   },
   "cell_type": "code",
   "source": "spark.sql(\"select * from glue_catalog.playground.demo version as of 3713858578440833675\").show()",
   "id": "bf41681b1cfbbc84",
   "outputs": [
    {
     "data": {
      "text/plain": [
       "FloatProgress(value=0.0, bar_style='info', description='Progress:', layout=Layout(height='25px', width='50%'),…"
      ],
      "application/vnd.jupyter.widget-view+json": {
       "version_major": 2,
       "version_minor": 0,
       "model_id": "3b703902d4824070a8f3a6563d9638c2"
      }
     },
     "metadata": {},
     "output_type": "display_data"
    },
    {
     "name": "stdout",
     "output_type": "stream",
     "text": [
      "+---------------+--------------+--------------------+---------+------+------------------+--------------+\n",
      "|           name|         phone|               email|postalZip|number|           country|ingestion_date|\n",
      "+---------------+--------------+--------------------+---------+------+------------------+--------------+\n",
      "|   Price Savage|(424) 562-4115|varius.ultrices@g...|   586986|     7|             India|    2024-06-22|\n",
      "|Katell Buchanan|(935) 445-9637|magna@protonmail.net|    55526|     9|           Nigeria|    2024-06-22|\n",
      "|    Leigh Young|1-808-725-8983|ultrices.posuere....|     4906|     7|            Poland|    2024-06-22|\n",
      "|   Odette Logan|1-562-786-9778|ultricies.ligula@...|     1061|     8|Russian Federation|    2024-06-22|\n",
      "|  Bianca Sexton|1-383-310-3697|risus.at@outlook.net|   115771|     0|           Vietnam|    2024-06-22|\n",
      "+---------------+--------------+--------------------+---------+------+------------------+--------------+"
     ]
    }
   ],
   "execution_count": 57
  },
  {
   "metadata": {
    "ExecuteTime": {
     "end_time": "2024-06-22T22:24:34.520970Z",
     "start_time": "2024-06-22T22:24:32.849692Z"
    }
   },
   "cell_type": "code",
   "source": "spark.sql(\"select * from glue_catalog.playground.demo version as of 4680088034666527875\").show()",
   "id": "430b0120c3e967b3",
   "outputs": [
    {
     "data": {
      "text/plain": [
       "FloatProgress(value=0.0, bar_style='info', description='Progress:', layout=Layout(height='25px', width='50%'),…"
      ],
      "application/vnd.jupyter.widget-view+json": {
       "version_major": 2,
       "version_minor": 0,
       "model_id": "26cb584ff4e34f94880d6c8f1239dd82"
      }
     },
     "metadata": {},
     "output_type": "display_data"
    },
    {
     "name": "stdout",
     "output_type": "stream",
     "text": [
      "+---------------+--------------+--------------------+---------+------+------------------+--------------+\n",
      "|           name|         phone|               email|postalZip|number|           country|ingestion_date|\n",
      "+---------------+--------------+--------------------+---------+------+------------------+--------------+\n",
      "|Katell Buchanan|(935) 445-9637|magna@protonmail.net|    55526|     9|           Nigeria|    2024-06-22|\n",
      "|   Odette Logan|1-562-786-9778|ultricies.ligula@...|     1061|     8|Russian Federation|    2024-06-22|\n",
      "|  Bianca Sexton|1-383-310-3697|risus.at@outlook.net|   115771|     0|           Vietnam|    2024-06-22|\n",
      "|   Price Savage|(424) 562-4115|varius.ultrices@g...|    75234|     7|             India|    2024-06-22|\n",
      "|    Leigh Young|1-808-725-8983|ultrices.posuere....|    75234|     7|            Poland|    2024-06-22|\n",
      "+---------------+--------------+--------------------+---------+------+------------------+--------------+"
     ]
    }
   ],
   "execution_count": 58
  },
  {
   "metadata": {},
   "cell_type": "markdown",
   "source": "## CDC of tables , which can be used to stream the events ",
   "id": "fb70b59fcd88d367"
  },
  {
   "metadata": {},
   "cell_type": "markdown",
   "source": "#### Based on call columns ",
   "id": "3938512dda4c1fe3"
  },
  {
   "metadata": {
    "ExecuteTime": {
     "end_time": "2024-06-22T22:43:16.958925Z",
     "start_time": "2024-06-22T22:43:09.064652Z"
    }
   },
   "cell_type": "code",
   "source": [
    "%%sql\n",
    "CALL glue_catalog.system.create_changelog_view(\n",
    "  table => 'playground.demo',\n",
    "  options => map('start-snapshot-id','3713858578440833675','end-snapshot-id', '4680088034666527875'),\n",
    "  changelog_view => 'change_load'\n",
    ")"
   ],
   "id": "65e218b541ca22b7",
   "outputs": [
    {
     "data": {
      "text/plain": [
       "FloatProgress(value=0.0, bar_style='info', description='Progress:', layout=Layout(height='25px', width='50%'),…"
      ],
      "application/vnd.jupyter.widget-view+json": {
       "version_major": 2,
       "version_minor": 0,
       "model_id": "25c1598e3e9f44c8afcb98ef3e727a23"
      }
     },
     "metadata": {},
     "output_type": "display_data"
    },
    {
     "data": {
      "text/plain": [
       "VBox(children=(HBox(children=(HTML(value='Type:'), Button(description='Table', layout=Layout(width='70px'), st…"
      ],
      "application/vnd.jupyter.widget-view+json": {
       "version_major": 2,
       "version_minor": 0,
       "model_id": "b05310aeb4434802a9dfce400e6ee8ba"
      }
     },
     "metadata": {},
     "output_type": "display_data"
    },
    {
     "data": {
      "text/plain": [
       "Output()"
      ],
      "application/vnd.jupyter.widget-view+json": {
       "version_major": 2,
       "version_minor": 0,
       "model_id": "4e81e395683949ce84fcc382205132b8"
      }
     },
     "metadata": {},
     "output_type": "display_data"
    }
   ],
   "execution_count": 69
  },
  {
   "metadata": {
    "ExecuteTime": {
     "end_time": "2024-06-22T22:48:23.665040Z",
     "start_time": "2024-06-22T22:48:11.744157Z"
    }
   },
   "cell_type": "code",
   "source": "spark.sql(\"SELECT * FROM change_load order by number desc , _change_type desc , country desc\").show()",
   "id": "3701dc4fa98ed311",
   "outputs": [
    {
     "data": {
      "text/plain": [
       "FloatProgress(value=0.0, bar_style='info', description='Progress:', layout=Layout(height='25px', width='50%'),…"
      ],
      "application/vnd.jupyter.widget-view+json": {
       "version_major": 2,
       "version_minor": 0,
       "model_id": "cc943e720ed241deaa199ffe7e77a0b2"
      }
     },
     "metadata": {},
     "output_type": "display_data"
    },
    {
     "name": "stdout",
     "output_type": "stream",
     "text": [
      "+------------+--------------+--------------------+---------+------+-------+--------------+------------+---------------+-------------------+\n",
      "|        name|         phone|               email|postalZip|number|country|ingestion_date|_change_type|_change_ordinal|_commit_snapshot_id|\n",
      "+------------+--------------+--------------------+---------+------+-------+--------------+------------+---------------+-------------------+\n",
      "| Leigh Young|1-808-725-8983|ultrices.posuere....|    75234|     7| Poland|    2024-06-22|      INSERT|              0|4680088034666527875|\n",
      "|Price Savage|(424) 562-4115|varius.ultrices@g...|    75234|     7|  India|    2024-06-22|      INSERT|              0|4680088034666527875|\n",
      "| Leigh Young|1-808-725-8983|ultrices.posuere....|     4906|     7| Poland|    2024-06-22|      DELETE|              0|4680088034666527875|\n",
      "|Price Savage|(424) 562-4115|varius.ultrices@g...|   586986|     7|  India|    2024-06-22|      DELETE|              0|4680088034666527875|\n",
      "+------------+--------------+--------------------+---------+------+-------+--------------+------------+---------------+-------------------+"
     ]
    }
   ],
   "execution_count": 77
  },
  {
   "metadata": {},
   "cell_type": "code",
   "outputs": [],
   "execution_count": null,
   "source": "",
   "id": "b5558966fd4ee9f1"
  }
 ],
 "metadata": {
  "kernelspec": {
   "display_name": "PySpark",
   "language": "python",
   "name": "pysparkkernel"
  },
  "language_info": {
   "codemirror_mode": {
    "name": "ipython",
    "version": 2
   },
   "file_extension": ".py",
   "mimetype": "text/x-python",
   "name": "python",
   "nbconvert_exporter": "python",
   "pygments_lexer": "ipython2",
   "version": "2.7.6"
  }
 },
 "nbformat": 4,
 "nbformat_minor": 5
}
